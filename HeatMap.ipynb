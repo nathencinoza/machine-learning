{
  "nbformat": 4,
  "nbformat_minor": 0,
  "metadata": {
    "colab": {
      "provenance": [],
      "mount_file_id": "1vsFbUfmXeP2mrEcvG0z9K20C_EtfuGwS",
      "authorship_tag": "ABX9TyM/iIrJoKq2iYLu52C6aWyx",
      "include_colab_link": true
    },
    "kernelspec": {
      "name": "python3",
      "display_name": "Python 3"
    },
    "language_info": {
      "name": "python"
    }
  },
  "cells": [
    {
      "cell_type": "markdown",
      "metadata": {
        "id": "view-in-github",
        "colab_type": "text"
      },
      "source": [
        "<a href=\"https://colab.research.google.com/github/nathencinoza/machine-learning/blob/main/HeatMap.ipynb\" target=\"_parent\"><img src=\"https://colab.research.google.com/assets/colab-badge.svg\" alt=\"Open In Colab\"/></a>"
      ]
    },
    {
      "cell_type": "code",
      "execution_count": null,
      "metadata": {
        "id": "55pi9lqJgR4G"
      },
      "outputs": [],
      "source": [
        "import pandas as pd\n",
        "import matplotlib.pyplot as plt\n",
        "import seaborn as sns"
      ]
    },
    {
      "cell_type": "code",
      "source": [
        "df = pd.read_parquet('/content/drive/MyDrive/Orga 2/TP3/TP3 dataset music/train.parquet')"
      ],
      "metadata": {
        "id": "WqZw28DbgSuj"
      },
      "execution_count": null,
      "outputs": []
    },
    {
      "cell_type": "code",
      "source": [
        "df = df[['track_name', 'genre', 'popularity', 'artist', 'acousticness', 'danceability', 'duration_ms', 'energy', 'instrumentalness', 'key', 'liveness', 'loudness', 'mode', 'speechiness', 'tempo', 'time_signature', 'valence']]\n",
        "df.head(5)"
      ],
      "metadata": {
        "colab": {
          "base_uri": "https://localhost:8080/",
          "height": 206
        },
        "id": "M6HYIjuxgWmh",
        "outputId": "d0fde20e-6666-4036-96c4-7a5f637fcd41"
      },
      "execution_count": null,
      "outputs": [
        {
          "output_type": "execute_result",
          "data": {
            "text/plain": [
              "  track_name  genre  popularity   artist  acousticness  danceability  \\\n",
              "0       Halo  Dance          79  Beyoncé        0.2720         0.508   \n",
              "1       Halo    Pop          80  Beyoncé        0.2720         0.508   \n",
              "2       Halo    R&B          80  Beyoncé        0.2720         0.508   \n",
              "3  Partition  Dance          71  Beyoncé        0.0296         0.412   \n",
              "4  Partition    Pop          71  Beyoncé        0.0296         0.412   \n",
              "\n",
              "   duration_ms  energy  instrumentalness key  liveness  loudness   mode  \\\n",
              "0       261640   0.720            0.0000   B    0.0563    -5.908  Minor   \n",
              "1       261640   0.720            0.0000   B    0.0563    -5.908  Minor   \n",
              "2       261640   0.720            0.0000   B    0.0563    -5.908  Minor   \n",
              "3       319467   0.441            0.0726   B    0.3060   -11.523  Minor   \n",
              "4       319467   0.441            0.0726   B    0.3060   -11.523  Minor   \n",
              "\n",
              "   speechiness    tempo time_signature  valence  \n",
              "0       0.0628   79.983            4/4    0.472  \n",
              "1       0.0628   79.983            4/4    0.472  \n",
              "2       0.0628   79.983            4/4    0.472  \n",
              "3       0.2910  185.571            4/4    0.174  \n",
              "4       0.2910  185.571            4/4    0.174  "
            ],
            "text/html": [
              "\n",
              "  <div id=\"df-c2a88aa1-19f4-4e8e-b28d-28bacfe000c2\">\n",
              "    <div class=\"colab-df-container\">\n",
              "      <div>\n",
              "<style scoped>\n",
              "    .dataframe tbody tr th:only-of-type {\n",
              "        vertical-align: middle;\n",
              "    }\n",
              "\n",
              "    .dataframe tbody tr th {\n",
              "        vertical-align: top;\n",
              "    }\n",
              "\n",
              "    .dataframe thead th {\n",
              "        text-align: right;\n",
              "    }\n",
              "</style>\n",
              "<table border=\"1\" class=\"dataframe\">\n",
              "  <thead>\n",
              "    <tr style=\"text-align: right;\">\n",
              "      <th></th>\n",
              "      <th>track_name</th>\n",
              "      <th>genre</th>\n",
              "      <th>popularity</th>\n",
              "      <th>artist</th>\n",
              "      <th>acousticness</th>\n",
              "      <th>danceability</th>\n",
              "      <th>duration_ms</th>\n",
              "      <th>energy</th>\n",
              "      <th>instrumentalness</th>\n",
              "      <th>key</th>\n",
              "      <th>liveness</th>\n",
              "      <th>loudness</th>\n",
              "      <th>mode</th>\n",
              "      <th>speechiness</th>\n",
              "      <th>tempo</th>\n",
              "      <th>time_signature</th>\n",
              "      <th>valence</th>\n",
              "    </tr>\n",
              "  </thead>\n",
              "  <tbody>\n",
              "    <tr>\n",
              "      <th>0</th>\n",
              "      <td>Halo</td>\n",
              "      <td>Dance</td>\n",
              "      <td>79</td>\n",
              "      <td>Beyoncé</td>\n",
              "      <td>0.2720</td>\n",
              "      <td>0.508</td>\n",
              "      <td>261640</td>\n",
              "      <td>0.720</td>\n",
              "      <td>0.0000</td>\n",
              "      <td>B</td>\n",
              "      <td>0.0563</td>\n",
              "      <td>-5.908</td>\n",
              "      <td>Minor</td>\n",
              "      <td>0.0628</td>\n",
              "      <td>79.983</td>\n",
              "      <td>4/4</td>\n",
              "      <td>0.472</td>\n",
              "    </tr>\n",
              "    <tr>\n",
              "      <th>1</th>\n",
              "      <td>Halo</td>\n",
              "      <td>Pop</td>\n",
              "      <td>80</td>\n",
              "      <td>Beyoncé</td>\n",
              "      <td>0.2720</td>\n",
              "      <td>0.508</td>\n",
              "      <td>261640</td>\n",
              "      <td>0.720</td>\n",
              "      <td>0.0000</td>\n",
              "      <td>B</td>\n",
              "      <td>0.0563</td>\n",
              "      <td>-5.908</td>\n",
              "      <td>Minor</td>\n",
              "      <td>0.0628</td>\n",
              "      <td>79.983</td>\n",
              "      <td>4/4</td>\n",
              "      <td>0.472</td>\n",
              "    </tr>\n",
              "    <tr>\n",
              "      <th>2</th>\n",
              "      <td>Halo</td>\n",
              "      <td>R&amp;B</td>\n",
              "      <td>80</td>\n",
              "      <td>Beyoncé</td>\n",
              "      <td>0.2720</td>\n",
              "      <td>0.508</td>\n",
              "      <td>261640</td>\n",
              "      <td>0.720</td>\n",
              "      <td>0.0000</td>\n",
              "      <td>B</td>\n",
              "      <td>0.0563</td>\n",
              "      <td>-5.908</td>\n",
              "      <td>Minor</td>\n",
              "      <td>0.0628</td>\n",
              "      <td>79.983</td>\n",
              "      <td>4/4</td>\n",
              "      <td>0.472</td>\n",
              "    </tr>\n",
              "    <tr>\n",
              "      <th>3</th>\n",
              "      <td>Partition</td>\n",
              "      <td>Dance</td>\n",
              "      <td>71</td>\n",
              "      <td>Beyoncé</td>\n",
              "      <td>0.0296</td>\n",
              "      <td>0.412</td>\n",
              "      <td>319467</td>\n",
              "      <td>0.441</td>\n",
              "      <td>0.0726</td>\n",
              "      <td>B</td>\n",
              "      <td>0.3060</td>\n",
              "      <td>-11.523</td>\n",
              "      <td>Minor</td>\n",
              "      <td>0.2910</td>\n",
              "      <td>185.571</td>\n",
              "      <td>4/4</td>\n",
              "      <td>0.174</td>\n",
              "    </tr>\n",
              "    <tr>\n",
              "      <th>4</th>\n",
              "      <td>Partition</td>\n",
              "      <td>Pop</td>\n",
              "      <td>71</td>\n",
              "      <td>Beyoncé</td>\n",
              "      <td>0.0296</td>\n",
              "      <td>0.412</td>\n",
              "      <td>319467</td>\n",
              "      <td>0.441</td>\n",
              "      <td>0.0726</td>\n",
              "      <td>B</td>\n",
              "      <td>0.3060</td>\n",
              "      <td>-11.523</td>\n",
              "      <td>Minor</td>\n",
              "      <td>0.2910</td>\n",
              "      <td>185.571</td>\n",
              "      <td>4/4</td>\n",
              "      <td>0.174</td>\n",
              "    </tr>\n",
              "  </tbody>\n",
              "</table>\n",
              "</div>\n",
              "      <button class=\"colab-df-convert\" onclick=\"convertToInteractive('df-c2a88aa1-19f4-4e8e-b28d-28bacfe000c2')\"\n",
              "              title=\"Convert this dataframe to an interactive table.\"\n",
              "              style=\"display:none;\">\n",
              "        \n",
              "  <svg xmlns=\"http://www.w3.org/2000/svg\" height=\"24px\"viewBox=\"0 0 24 24\"\n",
              "       width=\"24px\">\n",
              "    <path d=\"M0 0h24v24H0V0z\" fill=\"none\"/>\n",
              "    <path d=\"M18.56 5.44l.94 2.06.94-2.06 2.06-.94-2.06-.94-.94-2.06-.94 2.06-2.06.94zm-11 1L8.5 8.5l.94-2.06 2.06-.94-2.06-.94L8.5 2.5l-.94 2.06-2.06.94zm10 10l.94 2.06.94-2.06 2.06-.94-2.06-.94-.94-2.06-.94 2.06-2.06.94z\"/><path d=\"M17.41 7.96l-1.37-1.37c-.4-.4-.92-.59-1.43-.59-.52 0-1.04.2-1.43.59L10.3 9.45l-7.72 7.72c-.78.78-.78 2.05 0 2.83L4 21.41c.39.39.9.59 1.41.59.51 0 1.02-.2 1.41-.59l7.78-7.78 2.81-2.81c.8-.78.8-2.07 0-2.86zM5.41 20L4 18.59l7.72-7.72 1.47 1.35L5.41 20z\"/>\n",
              "  </svg>\n",
              "      </button>\n",
              "      \n",
              "  <style>\n",
              "    .colab-df-container {\n",
              "      display:flex;\n",
              "      flex-wrap:wrap;\n",
              "      gap: 12px;\n",
              "    }\n",
              "\n",
              "    .colab-df-convert {\n",
              "      background-color: #E8F0FE;\n",
              "      border: none;\n",
              "      border-radius: 50%;\n",
              "      cursor: pointer;\n",
              "      display: none;\n",
              "      fill: #1967D2;\n",
              "      height: 32px;\n",
              "      padding: 0 0 0 0;\n",
              "      width: 32px;\n",
              "    }\n",
              "\n",
              "    .colab-df-convert:hover {\n",
              "      background-color: #E2EBFA;\n",
              "      box-shadow: 0px 1px 2px rgba(60, 64, 67, 0.3), 0px 1px 3px 1px rgba(60, 64, 67, 0.15);\n",
              "      fill: #174EA6;\n",
              "    }\n",
              "\n",
              "    [theme=dark] .colab-df-convert {\n",
              "      background-color: #3B4455;\n",
              "      fill: #D2E3FC;\n",
              "    }\n",
              "\n",
              "    [theme=dark] .colab-df-convert:hover {\n",
              "      background-color: #434B5C;\n",
              "      box-shadow: 0px 1px 3px 1px rgba(0, 0, 0, 0.15);\n",
              "      filter: drop-shadow(0px 1px 2px rgba(0, 0, 0, 0.3));\n",
              "      fill: #FFFFFF;\n",
              "    }\n",
              "  </style>\n",
              "\n",
              "      <script>\n",
              "        const buttonEl =\n",
              "          document.querySelector('#df-c2a88aa1-19f4-4e8e-b28d-28bacfe000c2 button.colab-df-convert');\n",
              "        buttonEl.style.display =\n",
              "          google.colab.kernel.accessAllowed ? 'block' : 'none';\n",
              "\n",
              "        async function convertToInteractive(key) {\n",
              "          const element = document.querySelector('#df-c2a88aa1-19f4-4e8e-b28d-28bacfe000c2');\n",
              "          const dataTable =\n",
              "            await google.colab.kernel.invokeFunction('convertToInteractive',\n",
              "                                                     [key], {});\n",
              "          if (!dataTable) return;\n",
              "\n",
              "          const docLinkHtml = 'Like what you see? Visit the ' +\n",
              "            '<a target=\"_blank\" href=https://colab.research.google.com/notebooks/data_table.ipynb>data table notebook</a>'\n",
              "            + ' to learn more about interactive tables.';\n",
              "          element.innerHTML = '';\n",
              "          dataTable['output_type'] = 'display_data';\n",
              "          await google.colab.output.renderOutput(dataTable, element);\n",
              "          const docLink = document.createElement('div');\n",
              "          docLink.innerHTML = docLinkHtml;\n",
              "          element.appendChild(docLink);\n",
              "        }\n",
              "      </script>\n",
              "    </div>\n",
              "  </div>\n",
              "  "
            ]
          },
          "metadata": {},
          "execution_count": 58
        }
      ]
    },
    {
      "cell_type": "code",
      "source": [
        "generos = ['Rock','Alternative','Dance',\"Children’s Music\",'Pop','Folk','Rap','R&B','Blues','Country','Ska','Hip-Hop','Indie','Soul']\n",
        "df = df[df['genre'].isin(generos)]"
      ],
      "metadata": {
        "id": "AhY4-qsOg-4d"
      },
      "execution_count": null,
      "outputs": []
    },
    {
      "cell_type": "markdown",
      "source": [
        "Busque como se dividian los tempos y sus nombres"
      ],
      "metadata": {
        "id": "hK9ggb2w7CcZ"
      }
    },
    {
      "cell_type": "code",
      "source": [
        "df['tempo'] = df['tempo'].apply(lambda x: 'Grave' if (x >35 and x < 43) else ('Largo' if (x > 44 and  x <47) else ('Larghetto' if (x > 48 and x < 51) else ('Adagio' if (x > 52 and x < 54) else ('Andante' if (x > 55 and x < 65) else ('Andantino' if (x > 66 and x < 69) else ('Moderato' if (x > 70 and x < 95) else ('Allegretto' if (x >96 and x < 112) else ('Allegro' if (x > 113 and x < 120) else ('Vivace' if (x > 121 and x < 140) else ('Presto' if (x > 141 and x < 175) else 'Prestissimo')))))))))))"
      ],
      "metadata": {
        "id": "JeRCHo3in1RF"
      },
      "execution_count": null,
      "outputs": []
    },
    {
      "cell_type": "code",
      "source": [
        "df.columns"
      ],
      "metadata": {
        "colab": {
          "base_uri": "https://localhost:8080/"
        },
        "id": "ZHTaNMzDuTY1",
        "outputId": "272bfe62-4ab6-497b-ca17-b771ac3a1295"
      },
      "execution_count": null,
      "outputs": [
        {
          "output_type": "execute_result",
          "data": {
            "text/plain": [
              "Index(['track_name', 'genre', 'popularity', 'artist', 'acousticness',\n",
              "       'danceability', 'duration_ms', 'energy', 'instrumentalness', 'key',\n",
              "       'liveness', 'loudness', 'mode', 'speechiness', 'tempo',\n",
              "       'time_signature', 'valence'],\n",
              "      dtype='object')"
            ]
          },
          "metadata": {},
          "execution_count": 65
        }
      ]
    },
    {
      "cell_type": "code",
      "source": [
        "matriz = df.pivot_table(index='genre', columns = 'tempo', values = 'danceability').dropna(axis='columns')"
      ],
      "metadata": {
        "id": "dd-p06I6oasL"
      },
      "execution_count": null,
      "outputs": []
    },
    {
      "cell_type": "code",
      "source": [
        "plt.figure(dpi = 125)\n",
        "fig = sns.heatmap(matriz, cmap = sns.color_palette(\"Blues\", as_cmap=True))\n",
        "plt.title(\"Bailabilidad según género y tempo\")\n",
        "plt.ylabel(\"Género\")\n",
        "plt.xlabel(\"Tempo\")\n",
        "plt.show()"
      ],
      "metadata": {
        "colab": {
          "base_uri": "https://localhost:8080/",
          "height": 584
        },
        "id": "Os1HGNP1gzhr",
        "outputId": "d43b5d75-6344-4f5c-a66e-a5510d29f162"
      },
      "execution_count": null,
      "outputs": [
        {
          "output_type": "display_data",
          "data": {
            "text/plain": [
              "<Figure size 750x500 with 2 Axes>"
            ],
            "image/png": "[encoded data removed]"
          },
          "metadata": {
            "needs_background": "light"
          }
        }
      ]
    }
  ]
}